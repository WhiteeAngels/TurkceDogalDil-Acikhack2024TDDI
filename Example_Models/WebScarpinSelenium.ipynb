{
  "nbformat": 4,
  "nbformat_minor": 0,
  "metadata": {
    "colab": {
      "provenance": []
    },
    "kernelspec": {
      "name": "python3",
      "display_name": "Python 3"
    },
    "language_info": {
      "name": "python"
    }
  },
  "cells": [
    {
      "cell_type": "code",
      "source": [
        "!pip install pandas\n",
        "!pip install bs4\n",
        "!pip install selenium\n",
        "!pip install undetected-chromedriver\n",
        "!pip install webdriver-manager"
      ],
      "metadata": {
        "colab": {
          "base_uri": "https://localhost:8080/"
        },
        "id": "sfjTlfQ-oEHH",
        "outputId": "0a28da15-dfbd-40cc-ff7d-5fff2178cc95"
      },
      "execution_count": 53,
      "outputs": [
        {
          "output_type": "stream",
          "name": "stdout",
          "text": [
            "Requirement already satisfied: pandas in /usr/local/lib/python3.10/dist-packages (2.1.4)\n",
            "Requirement already satisfied: numpy<2,>=1.22.4 in /usr/local/lib/python3.10/dist-packages (from pandas) (1.26.4)\n",
            "Requirement already satisfied: python-dateutil>=2.8.2 in /usr/local/lib/python3.10/dist-packages (from pandas) (2.8.2)\n",
            "Requirement already satisfied: pytz>=2020.1 in /usr/local/lib/python3.10/dist-packages (from pandas) (2024.1)\n",
            "Requirement already satisfied: tzdata>=2022.1 in /usr/local/lib/python3.10/dist-packages (from pandas) (2024.1)\n",
            "Requirement already satisfied: six>=1.5 in /usr/local/lib/python3.10/dist-packages (from python-dateutil>=2.8.2->pandas) (1.16.0)\n",
            "Requirement already satisfied: bs4 in /usr/local/lib/python3.10/dist-packages (0.0.2)\n",
            "Requirement already satisfied: beautifulsoup4 in /usr/local/lib/python3.10/dist-packages (from bs4) (4.12.3)\n",
            "Requirement already satisfied: soupsieve>1.2 in /usr/local/lib/python3.10/dist-packages (from beautifulsoup4->bs4) (2.5)\n",
            "Requirement already satisfied: selenium in /usr/local/lib/python3.10/dist-packages (4.23.1)\n",
            "Requirement already satisfied: urllib3<3,>=1.26 in /usr/local/lib/python3.10/dist-packages (from urllib3[socks]<3,>=1.26->selenium) (2.0.7)\n",
            "Requirement already satisfied: trio~=0.17 in /usr/local/lib/python3.10/dist-packages (from selenium) (0.26.0)\n",
            "Requirement already satisfied: trio-websocket~=0.9 in /usr/local/lib/python3.10/dist-packages (from selenium) (0.11.1)\n",
            "Requirement already satisfied: certifi>=2021.10.8 in /usr/local/lib/python3.10/dist-packages (from selenium) (2024.7.4)\n",
            "Requirement already satisfied: typing_extensions~=4.9 in /usr/local/lib/python3.10/dist-packages (from selenium) (4.12.2)\n",
            "Requirement already satisfied: websocket-client~=1.8 in /usr/local/lib/python3.10/dist-packages (from selenium) (1.8.0)\n",
            "Requirement already satisfied: attrs>=23.2.0 in /usr/local/lib/python3.10/dist-packages (from trio~=0.17->selenium) (23.2.0)\n",
            "Requirement already satisfied: sortedcontainers in /usr/local/lib/python3.10/dist-packages (from trio~=0.17->selenium) (2.4.0)\n",
            "Requirement already satisfied: idna in /usr/local/lib/python3.10/dist-packages (from trio~=0.17->selenium) (3.7)\n",
            "Requirement already satisfied: outcome in /usr/local/lib/python3.10/dist-packages (from trio~=0.17->selenium) (1.3.0.post0)\n",
            "Requirement already satisfied: sniffio>=1.3.0 in /usr/local/lib/python3.10/dist-packages (from trio~=0.17->selenium) (1.3.1)\n",
            "Requirement already satisfied: exceptiongroup in /usr/local/lib/python3.10/dist-packages (from trio~=0.17->selenium) (1.2.2)\n",
            "Requirement already satisfied: wsproto>=0.14 in /usr/local/lib/python3.10/dist-packages (from trio-websocket~=0.9->selenium) (1.2.0)\n",
            "Requirement already satisfied: pysocks!=1.5.7,<2.0,>=1.5.6 in /usr/local/lib/python3.10/dist-packages (from urllib3[socks]<3,>=1.26->selenium) (1.7.1)\n",
            "Requirement already satisfied: h11<1,>=0.9.0 in /usr/local/lib/python3.10/dist-packages (from wsproto>=0.14->trio-websocket~=0.9->selenium) (0.14.0)\n",
            "Requirement already satisfied: undetected-chromedriver in /usr/local/lib/python3.10/dist-packages (3.5.5)\n",
            "Requirement already satisfied: selenium>=4.9.0 in /usr/local/lib/python3.10/dist-packages (from undetected-chromedriver) (4.23.1)\n",
            "Requirement already satisfied: requests in /usr/local/lib/python3.10/dist-packages (from undetected-chromedriver) (2.31.0)\n",
            "Requirement already satisfied: websockets in /usr/local/lib/python3.10/dist-packages (from undetected-chromedriver) (12.0)\n",
            "Requirement already satisfied: urllib3<3,>=1.26 in /usr/local/lib/python3.10/dist-packages (from urllib3[socks]<3,>=1.26->selenium>=4.9.0->undetected-chromedriver) (2.0.7)\n",
            "Requirement already satisfied: trio~=0.17 in /usr/local/lib/python3.10/dist-packages (from selenium>=4.9.0->undetected-chromedriver) (0.26.0)\n",
            "Requirement already satisfied: trio-websocket~=0.9 in /usr/local/lib/python3.10/dist-packages (from selenium>=4.9.0->undetected-chromedriver) (0.11.1)\n",
            "Requirement already satisfied: certifi>=2021.10.8 in /usr/local/lib/python3.10/dist-packages (from selenium>=4.9.0->undetected-chromedriver) (2024.7.4)\n",
            "Requirement already satisfied: typing_extensions~=4.9 in /usr/local/lib/python3.10/dist-packages (from selenium>=4.9.0->undetected-chromedriver) (4.12.2)\n",
            "Requirement already satisfied: websocket-client~=1.8 in /usr/local/lib/python3.10/dist-packages (from selenium>=4.9.0->undetected-chromedriver) (1.8.0)\n",
            "Requirement already satisfied: charset-normalizer<4,>=2 in /usr/local/lib/python3.10/dist-packages (from requests->undetected-chromedriver) (3.3.2)\n",
            "Requirement already satisfied: idna<4,>=2.5 in /usr/local/lib/python3.10/dist-packages (from requests->undetected-chromedriver) (3.7)\n",
            "Requirement already satisfied: attrs>=23.2.0 in /usr/local/lib/python3.10/dist-packages (from trio~=0.17->selenium>=4.9.0->undetected-chromedriver) (23.2.0)\n",
            "Requirement already satisfied: sortedcontainers in /usr/local/lib/python3.10/dist-packages (from trio~=0.17->selenium>=4.9.0->undetected-chromedriver) (2.4.0)\n",
            "Requirement already satisfied: outcome in /usr/local/lib/python3.10/dist-packages (from trio~=0.17->selenium>=4.9.0->undetected-chromedriver) (1.3.0.post0)\n",
            "Requirement already satisfied: sniffio>=1.3.0 in /usr/local/lib/python3.10/dist-packages (from trio~=0.17->selenium>=4.9.0->undetected-chromedriver) (1.3.1)\n",
            "Requirement already satisfied: exceptiongroup in /usr/local/lib/python3.10/dist-packages (from trio~=0.17->selenium>=4.9.0->undetected-chromedriver) (1.2.2)\n",
            "Requirement already satisfied: wsproto>=0.14 in /usr/local/lib/python3.10/dist-packages (from trio-websocket~=0.9->selenium>=4.9.0->undetected-chromedriver) (1.2.0)\n",
            "Requirement already satisfied: pysocks!=1.5.7,<2.0,>=1.5.6 in /usr/local/lib/python3.10/dist-packages (from urllib3[socks]<3,>=1.26->selenium>=4.9.0->undetected-chromedriver) (1.7.1)\n",
            "Requirement already satisfied: h11<1,>=0.9.0 in /usr/local/lib/python3.10/dist-packages (from wsproto>=0.14->trio-websocket~=0.9->selenium>=4.9.0->undetected-chromedriver) (0.14.0)\n",
            "Requirement already satisfied: webdriver-manager in /usr/local/lib/python3.10/dist-packages (4.0.2)\n",
            "Requirement already satisfied: requests in /usr/local/lib/python3.10/dist-packages (from webdriver-manager) (2.31.0)\n",
            "Requirement already satisfied: python-dotenv in /usr/local/lib/python3.10/dist-packages (from webdriver-manager) (1.0.1)\n",
            "Requirement already satisfied: packaging in /usr/local/lib/python3.10/dist-packages (from webdriver-manager) (24.1)\n",
            "Requirement already satisfied: charset-normalizer<4,>=2 in /usr/local/lib/python3.10/dist-packages (from requests->webdriver-manager) (3.3.2)\n",
            "Requirement already satisfied: idna<4,>=2.5 in /usr/local/lib/python3.10/dist-packages (from requests->webdriver-manager) (3.7)\n",
            "Requirement already satisfied: urllib3<3,>=1.21.1 in /usr/local/lib/python3.10/dist-packages (from requests->webdriver-manager) (2.0.7)\n",
            "Requirement already satisfied: certifi>=2017.4.17 in /usr/local/lib/python3.10/dist-packages (from requests->webdriver-manager) (2024.7.4)\n"
          ]
        }
      ]
    },
    {
      "cell_type": "code",
      "source": [
        "from selenium.webdriver.common.by import By\n",
        "from selenium.webdriver.firefox.service import Service as FirefoxService\n",
        "from selenium.webdriver.chrome.service import Service as ChromeService\n",
        "from selenium.webdriver.firefox.options import Options as FirefoxOptions\n",
        "from selenium.webdriver.chrome.options import Options as ChromeOptions\n",
        "from selenium.webdriver.common.alert import Alert\n",
        "from webdriver_manager.chrome import ChromeDriverManager\n",
        "from webdriver_manager.firefox import GeckoDriverManager\n",
        "from undetected_chromedriver import Chrome\n",
        "from selenium import webdriver\n",
        "from bs4 import BeautifulSoup\n",
        "from selenium.webdriver.support.ui import WebDriverWait\n",
        "from selenium.webdriver.support import expected_conditions as EC\n",
        "import pandas as pd\n",
        "import time\n"
      ],
      "metadata": {
        "id": "Cy7YAmv5ouYw"
      },
      "execution_count": 54,
      "outputs": []
    },
    {
      "cell_type": "code",
      "source": [
        "import undetected_chromedriver as uc\n",
        "from bs4 import BeautifulSoup\n",
        "import time\n",
        "\n",
        "# Linkleri toplamak için değişken\n",
        "linkler = []\n",
        "\n",
        "# Sayfaları dolaşmak için for döngüsü\n",
        "for i in range(1, 3):\n",
        "    for site in [\"turkcell\", \"superonline\"]:\n",
        "        # Bütün sayfalar\n",
        "        url = f\"https://www.sikayetvar.com/{site}?page={i}\"\n",
        "\n",
        "        # Chrome tarayıcıyı başlat\n",
        "        options = uc.ChromeOptions()\n",
        "        options.headless = True  # Tarayıcıyı arka planda çalıştırmak için\n",
        "        driver = uc.Chrome(options=options)\n",
        "\n",
        "        try:\n",
        "            # Ayarlanan URL'ye git\n",
        "            driver.get(url)\n",
        "\n",
        "            # 5 sn sayfanın yüklenmesini bekle\n",
        "            time.sleep(5)\n",
        "\n",
        "            # Sayfa kaynağını al\n",
        "            page_source = driver.page_source\n",
        "\n",
        "            # bs4 ile parçala\n",
        "            soup = BeautifulSoup(page_source, 'html.parser')\n",
        "\n",
        "            # Şikayet linklerini al\n",
        "            links = soup.find_all('a', class_='complaint-layer')\n",
        "            print(f\"Page {i} on {site} contains {len(links)} complaint links.\")\n",
        "\n",
        "            # Container'daki linkleri al ve linkler listesine ekle\n",
        "            for link in links:\n",
        "                href = link.get('href')\n",
        "                if href:\n",
        "                    full_url = f\"https://www.sikayetvar.com{href}\"\n",
        "                    linkler.append(full_url)\n",
        "\n",
        "        finally:\n",
        "            # En son çık\n",
        "            driver.quit()\n",
        "\n",
        "# Linkleri yazdır\n",
        "for link in linkler:\n",
        "    print(link)\n"
      ],
      "metadata": {
        "colab": {
          "base_uri": "https://localhost:8080/"
        },
        "id": "lx4-JBtDo0-p",
        "outputId": "b9bb5480-604c-40d1-de93-e697e2416848"
      },
      "execution_count": 79,
      "outputs": [
        {
          "output_type": "stream",
          "name": "stdout",
          "text": [
            "Page 1 on turkcell contains 0 complaint links.\n",
            "Page 1 on superonline contains 0 complaint links.\n",
            "Page 2 on turkcell contains 0 complaint links.\n",
            "Page 2 on superonline contains 0 complaint links.\n"
          ]
        }
      ]
    },
    {
      "cell_type": "markdown",
      "source": [
        "/turkcell/turkcell-yanlis-bilgilendirme-ve-yaratilan-maddi-zarar\n",
        "/turkcell/turkcell-komisyonculuk-mu-yapiyor\n",
        "/turkcell/turkcell-yanlis-yurt-disi-kullanim-ucreti\n",
        "/turkcell/turkcell-kapsama-alani-ve-musteri-hizmetleri-ihmalkarligi\n",
        "/turkcell/htp-click-n-play-ve-turkcell-sikayet\n",
        "/turkcell/turkcell-hattima-internet-dusmuyor\n",
        "/turkcell/turkcell-basin-tarifesi-magduriyeti-2\n",
        "/turkcell/turkcell-paketim-iptal-oldu\n",
        "/turkcell/turkcell-hat-tasima-sonrasi-e-sim-problemi\n",
        "/turkcell/turkcell-ulke-icinde-yurt-disi-faturasi-gonderiyor\n",
        "/turkcell/turkcell-habersizce-faturaliya-gecis\n",
        "/turkcell/turkcell-tyg-avantaj-sikayet-3\n",
        "/turkcell/turkcell-kampanya-yeni-gelen-tarife-almiyorlar\n",
        "/turkcell/turkcell-yasal-uyari-mesaji-47\n",
        "/turkcell/turkcell-midi-lifee-ucret-iade\n",
        "/turkcell/turkcell-tgy-ucret-iptali\n",
        "/turkcell/turkcell-salla-kazan-daki-yetersizlik\n",
        "/turkcell/turkcellde-beklentiler-karsilanmiyor-vodafone-daha-iyi-mi\n",
        "/turkcell/turkcell-kullanamayacagim-1-paket-ve-cikis-yapamiyorum-uzduler\n",
        "/turkcell/turkcell-paket-asim-ucreti-problemi-1\n",
        "/turkcell/turkcell-gergin-ve-tahammulsuz-calisanlar\n",
        "/turkcell/turkcell-tyg-ucreti-kesmesi\n",
        "/turkcell/turkcell-keyfine-gore-fatura-cikartiyor\n",
        "/turkcell/turkcell-boyle-bir-mesaj-aliyorum\n",
        "/turkcell/turkcell-fatura-alimi-insaf\n",
        "/turkcell/turkcell-taahhut-yenileme-ucreti-ve-fatura-artirimi\n",
        "/turkcell/turkcell-yuksek-fatura-uyanikligi\n",
        "/turkcell/turkcelle-yeni-gecmenin-verdigi-dayanilmaz-magduriyet\n",
        "/turkcell/turkcell-tyg-kullanimi-1050-tl-5-gunluk-fatura-yansimasi\n",
        "/turkcell/turkcell-faturaya-yansiyan-yanlis\n",
        "/turkcell/turkcell-musteri-temsilcisinin-dinlemeden-bir-sey-demeden-yuzume-kapatmasi\n",
        "/turkcell/turkcell-musteri-hizmetlerine-ulasilamama-1\n",
        "/turkcell/turkcell-haksiz-tyg-kazanci\n",
        "/turkcell/turkcell-hattim-acilmiyor-4-gun-oldu\n",
        "/turkcell/turkcell-hazir-kart-kullanilmadigi-halde-data-kullanim-ucreti\n",
        "/turkcell/turkcell-musterilerine-hakaret-ediyor\n",
        "/turkcell/turkcell-platinum-sim-kart-problemi\n",
        "/turkcell/turkcell-tarife-lere-ek-zamlarin-yapilmasi\n",
        "/turkcell/turkcell-hattimdaki-parayi-kullandi\n",
        "/turkcell/turkcell-tyg-avantaj-hatasi-2\n",
        "/turkcell/turkcellin-sacma-sapan-cayma-bedelleri\n",
        "/turkcell/turkcell-musteri-hizmetleri-saygisizligi-7\n",
        "/turkcell/turkcell-paycell-uzerinden-izinsiz-digifun-uyeligi-skandali\n",
        "/turkcell/turkcell-kisi-onayi-olmadan-yapilan-islem\n",
        "/turkcell/konu-odenmemis-fatura-turkcell\n",
        "/turkcell/turkcell-pismanliktir-2-harciyorsan-8-gidiyor-ve-hicbir-yerde-cekmiyor\n",
        "/turkcell/turkcell-geri-iade-olmasini-istiyorum\n",
        "/turkcell/turkcell-ses-paket-asim-ucreti-11\n",
        "/turkcell/turkcell-haksiz-fatura-yansitilmis\n",
        "/turkcell/turkcell-4-gun-icin-cayma-bedeli-nedir\n",
        "/turkcell/turkcell-den-buyuk-yolsuzluk\n",
        "/turkcell/turkcell-bakiyemi-durdur-yere-sifirladi\n",
        "/turkcell/turkcell-asiri-yukselen-tarife-fiyatlari\n",
        "/turkcell/turkcell-pismanliktir-yeni-hat-diye-aliyoruz-baskasina-ait-cikiyor\n",
        "/turkcell/turkcell-ek-paket-iptali-26\n",
        "/turkcell/turkcell-gnc-sinema-kampanyasinda-film-kisitlamasi-sorunu\n",
        "/turkcell/turkcell-mobil-uygulama-uzerinden-paketi-aldirtmiyor\n",
        "/turkcell/turkcell-tyg-avantaj-ucreti-adi-altinda-ucret-alma\n",
        "/turkcell/turkcell-internet-paketlerinin-hizli-tukenmesi\n",
        "/turkcell/turkcell-iletisimde-izinsiz-aboneligimden-ucret-cekimi\n",
        "/turkcell/turkcell-yillik-kontrat-yenileme-surecinde-fahis-fiyat-artisi\n",
        "/turkcell/turkcell-hatlarinin-cekmeme-sorunu\n",
        "/turkcell/turkcell-evde-telefon-ve-internet-cekmeme\n",
        "/turkcell/turkcell-sebeke-sifir-tam-bir-haftadir\n",
        "/turkcell/turkcellin-statik-ip-konusundaki-yetersizligi-ve-beceriksizligi\n",
        "/turkcell/turkcell-den-haksiz-fatura\n",
        "/turkcell/turkcell-lifebox-tarafindan-magdur-edildim\n",
        "/turkcell/turkcell-gnc-haftalik-abonelik-iptal-edilmiyor\n",
        "/turkcell/turkcell-hizmet-cozum-var-mi-yok-mu-sizde\n",
        "/turkcell/turkcell-internet-sebekesi-yok-cekmiyor\n",
        "/turkcell/turkcell-ek-fatura-ile-emekliyi-daha-da-ac-birakiyor\n",
        "/turkcell/turkcell-magazasinda-ucretsiz-isleme-ucret-alinmasi\n",
        "/turkcell/turkcell-paket-sikayet-devreden-ozelligiyle-ilgili\n",
        "/turkcell/turkcell-tarafima-acilan-superbox\n",
        "/turkcell/turkcell-habersiz-yapilan-zam\n",
        "/turkcell/turkcell-interneti-cok-fazla-yiyor\n",
        "/turkcell/turkcell-faturasiz-internetim-bittikten-sonra-online-pakete-110-tl-zam\n",
        "/turkcell/turkcell-cayma-bedeli-sacmaligi-fahis-fiyatlar-resmen-insanlari-aldatiyorlar\n",
        "/turkcell/turkcell-sebeke-yok-sebeke\n",
        "/turkcell/turkcell-hizmet-sifir-paket-fiyatlari-yuksek"
      ],
      "metadata": {
        "id": "iYWVHYORtGfY"
      }
    },
    {
      "cell_type": "code",
      "source": [
        "len(linkler)"
      ],
      "metadata": {
        "colab": {
          "base_uri": "https://localhost:8080/"
        },
        "id": "H5RE0aW2rhLe",
        "outputId": "4e00347f-7867-43a1-f1cf-86d222c9efd9"
      },
      "execution_count": 80,
      "outputs": [
        {
          "output_type": "execute_result",
          "data": {
            "text/plain": [
              "0"
            ]
          },
          "metadata": {},
          "execution_count": 80
        }
      ]
    },
    {
      "cell_type": "code",
      "source": [
        "# Dosya yolunu belirt\n",
        "dosya_yolu = 'sikayetvar_turkcell_yorum_linkleri.txt'\n",
        "\n",
        "# Boş bir liste oluştur\n",
        "liste = []\n",
        "\n",
        "# Dosyayı oku ve içeriği listeye ata\n",
        "with open(dosya_yolu, 'r', encoding='utf-8') as dosya:\n",
        "    for satir in dosya:\n",
        "        liste.append(satir.strip())  # strip() boşlukları ve yeni satır karakterlerini kaldırır"
      ],
      "metadata": {
        "id": "Z1jnrwVktZiz"
      },
      "execution_count": 82,
      "outputs": []
    },
    {
      "cell_type": "code",
      "source": [
        "import random\n",
        "#linklerin çekilcek kadarını alıyoruz\n",
        "sample_size = min(500, len(liste))  # Adjust sample size if liste is smaller\n",
        "rastgele_elemanlar = random.sample(liste, sample_size)\n",
        "textler=[]\n",
        "service = Service()\n",
        "# Blok reklamları engellemek için firefox ayarı\n",
        "options = Options()\n",
        "options.set_preference(\"dom.disable_open_during_load\", True)\n",
        "\n",
        "# Driver ı başlatıyoruz\n",
        "driver = webdriver.Firefox(service=service, options=options)\n",
        "\n",
        "# Ana url\n",
        "base_url = 'https://www.sikayetvar.com'\n",
        "\n",
        "for i in rastgele_elemanlar:\n",
        "    # Her linki dolaşıyoruz\n",
        "    try:\n",
        "        # Çektiğimiz yorum linkleri ile ana linkelri birleştiriyoruz\n",
        "        url = base_url + str(i)\n",
        "        driver.get(url)\n",
        "        # Firefox işe yaramazsa diye selenium ile pop upları kapatıyoruz\n",
        "        try:\n",
        "            alert = Alert(driver)\n",
        "            alert.dismiss()  # or alert.accept()\n",
        "        except:\n",
        "            pass\n",
        "        # Sayfa yüklenene kadar bekle\n",
        "        WebDriverWait(driver, 10).until(\n",
        "            EC.presence_of_element_located((By.CLASS_NAME, 'complaint-detail-description'))\n",
        "        )\n",
        "        # Belirli bir sınıfa sahip elementi bulma\n",
        "        element = driver.find_element(By.CLASS_NAME, 'complaint-detail-description')\n",
        "\n",
        "        # Elementin altındaki tüm metinleri alma\n",
        "        text_content = element.text\n",
        "        textler.append(text_content)\n",
        "        print(text_content)\n",
        "        print(\"-\" * 80)\n",
        "    except Exception as e:\n",
        "       # Hata olursa bekleme hatayı yaz geç\n",
        "        print(\"The error is: \",e)\n",
        "        pass\n",
        "# WebDriver'ı kapatma\n",
        "driver.quit()"
      ],
      "metadata": {
        "id": "kVO4Qj-wtdID"
      },
      "execution_count": null,
      "outputs": []
    },
    {
      "cell_type": "code",
      "source": [
        "# Metinleri kayıt etme\n",
        "my_list = textler\n",
        "\n",
        "# Listeyi bir metin dosyasına yazıyoruz\n",
        "with open(\"sikayetvar_turkcell_yorumlar_493_adet.txt\", \"w\") as file:\n",
        "    for item in my_list:\n",
        "        file.write(\"%s+\\n\" % item)"
      ],
      "metadata": {
        "id": "WL9iPfertm18"
      },
      "execution_count": 84,
      "outputs": []
    }
  ]
}